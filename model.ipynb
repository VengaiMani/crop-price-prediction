{
 "cells": [
  {
   "cell_type": "code",
   "execution_count": 3,
   "metadata": {},
   "outputs": [],
   "source": [
    "import numpy as np\n",
    "import pandas as pd\n",
    "from sklearn.preprocessing import LabelEncoder\n",
    "from sklearn.model_selection import train_test_split"
   ]
  },
  {
   "cell_type": "code",
   "execution_count": 4,
   "metadata": {},
   "outputs": [],
   "source": [
    "data_set=pd.read_csv(\"agree.csv\")\n",
    "column_means = data_set.mean()\n",
    "data_set= data_set.fillna(column_means)\n",
    "data_set.drop('production', inplace=True, axis=1)\n",
    "data_set.drop('area', inplace=True, axis=1)"
   ]
  },
  {
   "cell_type": "code",
   "execution_count": 21,
   "metadata": {},
   "outputs": [],
   "source": [
    "le=LabelEncoder()\n",
    "map={}\n",
    "le.fit(data_set['state_name'])\n",
    "map.update(dict(zip(le.classes_,le.transform(le.classes_))))\n",
    "data_set['state_name']=le.transform(data_set['state_name'])\n",
    "\n",
    "le.fit(data_set['district_name'])\n",
    "map.update(dict(zip(le.classes_,le.transform(le.classes_))))\n",
    "data_set['district_name']=le.transform(data_set['district_name'])\n",
    "\n",
    "le.fit(data_set['crop_year'])\n",
    "map.update(dict(zip(le.classes_,le.transform(le.classes_))))\n",
    "data_set['crop_year']=le.transform(data_set['crop_year'])\n",
    "\n",
    "le.fit(data_set['season'])\n",
    "map.update(dict(zip(le.classes_,le.transform(le.classes_))))\n",
    "data_set['season']=le.transform(data_set['season'])\n",
    "\n",
    "le.fit(data_set['crop'])\n",
    "map.update(dict(zip(le.classes_,le.transform(le.classes_))))\n",
    "crops=le.classes_\n",
    "data_set['crop']=le.transform(data_set['crop'])"
   ]
  },
  {
   "cell_type": "code",
   "execution_count": 40,
   "metadata": {},
   "outputs": [
    {
     "name": "stdout",
     "output_type": "stream",
     "text": [
      "[[  0 427   3   1   2]\n",
      " [  0 427   3   1  74]\n",
      " [  0 427   3   1  95]\n",
      " ...\n",
      " [ 32 471  17   4 106]\n",
      " [ 32 471  17   5  95]\n",
      " [ 32 471  17   5 102]]\n"
     ]
    }
   ],
   "source": [
    "x=data_set.iloc[:,[0,1,2,3,4]].values\n",
    "y=data_set.iloc[:,[5]].values\n",
    "y=y.astype('int')  \n",
    "x_train, x_test, y_train, y_test= train_test_split(x, y, test_size= 0.25, random_state=10)  "
   ]
  },
  {
   "cell_type": "code",
   "execution_count": 41,
   "metadata": {},
   "outputs": [
    {
     "data": {
      "text/plain": [
       "SVC(kernel='linear')"
      ]
     },
     "execution_count": 41,
     "metadata": {},
     "output_type": "execute_result"
    }
   ],
   "source": [
    "from sklearn.preprocessing import StandardScaler    \n",
    "st_x= StandardScaler()\n",
    "x_train= st_x.fit_transform(x_train)    \n",
    "x_test= st_x.transform(x_test) \n",
    "from sklearn.svm import SVC   \n",
    "classifier = SVC(kernel='linear')  \n",
    "classifier.fit(x_train, np.ravel(y_train))"
   ]
  },
  {
   "cell_type": "code",
   "execution_count": 42,
   "metadata": {},
   "outputs": [
    {
     "name": "stdout",
     "output_type": "stream",
     "text": [
      "0.42556442306129416\n"
     ]
    }
   ],
   "source": [
    "from sklearn import metrics\n",
    "y_pred=classifier.predict(x_test)\n",
    "predictions=metrics.accuracy_score(y_test,y_pred)\n",
    "print(predictions)"
   ]
  },
  {
   "cell_type": "code",
   "execution_count": 45,
   "metadata": {},
   "outputs": [
    {
     "name": "stdout",
     "output_type": "stream",
     "text": [
      "[30]\n"
     ]
    }
   ],
   "source": [
    "# state_name=map[\"Andaman and Nicobar Islands\"]\n",
    "# district_name=map[\"NICOBARS\"]\n",
    "# crop_year=map[2000]\n",
    "# season=map[\"Kharif\"]\n",
    "# crop=map[\"Arecanut\"]\n",
    "\n",
    "# pred=classifier.predict([[state_name,district_name,crop_year,season,crop]])\n",
    "pred=classifier.predict([[0,0,0,0,0]])\n",
    "print(pred)"
   ]
  }
 ],
 "metadata": {
  "interpreter": {
   "hash": "da766940e810fbc1a85a9d28ae65da1081553e9238fc4ba3b7f843aacbdb93d9"
  },
  "kernelspec": {
   "display_name": "Python 3.8.0 ('env': venv)",
   "language": "python",
   "name": "python3"
  },
  "language_info": {
   "codemirror_mode": {
    "name": "ipython",
    "version": 3
   },
   "file_extension": ".py",
   "mimetype": "text/x-python",
   "name": "python",
   "nbconvert_exporter": "python",
   "pygments_lexer": "ipython3",
   "version": "3.8.0"
  },
  "orig_nbformat": 4
 },
 "nbformat": 4,
 "nbformat_minor": 2
}
